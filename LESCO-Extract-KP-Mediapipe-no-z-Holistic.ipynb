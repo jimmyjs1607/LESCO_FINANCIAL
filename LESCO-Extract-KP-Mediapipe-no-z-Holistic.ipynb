{
 "cells": [
  {
   "cell_type": "code",
   "execution_count": 1,
   "id": "2b6eaca8-6b08-46f1-bd8e-63090c0f4eb4",
   "metadata": {},
   "outputs": [],
   "source": [
    "import cv2 as cv2\n",
    "import mediapipe as mp\n",
    "#import matplotlib as mpl\n",
    "import numpy as np\n",
    "#import torch\n",
    "#import math\n",
    "import sys\n",
    "import pandas as pd\n",
    "from glob import glob\n",
    "#import torchvision\n",
    "#from torchvision import datasets, models, transforms\n",
    "#from torch.utils.data import DataLoader\n",
    "import time\n",
    "from tqdm import tqdm\n",
    "import copy\n",
    "#import torch.utils.data as data_utils\n",
    "import shutil\n",
    "import os\n",
    "import csv\n",
    "import gc\n",
    "#import objgraph\n",
    "from sklearn.decomposition import PCA\n"
   ]
  },
  {
   "cell_type": "code",
   "execution_count": 2,
   "id": "637387d2-a17c-4d9d-b735-1f64af3b69e8",
   "metadata": {},
   "outputs": [],
   "source": [
    "ROOT_PATH='C:/Users/jimmy/Documents/ORIGINALES_RAW_90/'\n",
    "FLIP = False\n",
    "ROTATE = False\n",
    "ROT_ANG = 0\n",
    "FRAMES = 90\n",
    "LANDMARK_IDX = [156, 70, 63, 105, 66, 107, 55, 193, 246, 161, 160, 159, 158, 157, 173, 33, 7, 163, 144, 145, 153, 154, 155, 133, 383, 300, 293, 334, 296, 336, 285, 417, 466, 388, 387, 386, 385, 384, 398, 263, 249, 390, 373, 374, 380, 381, 382, 362, 78, 191, 80, 81, 82, 13, 312, 311, 310, 415, 308, 95, 88, 178, 87, 14, 317, 402, 318, 324]"
   ]
  },
  {
   "cell_type": "code",
   "execution_count": 3,
   "id": "39e5b137-c0d1-44e8-ba7b-811011bc702b",
   "metadata": {},
   "outputs": [],
   "source": [
    "def rotate_image(image, angle):\n",
    "    height, width = image.shape[:2]\n",
    "    center = (width/2, height/2)\n",
    "    rotation_matrix = cv2.getRotationMatrix2D(center, angle, 1)\n",
    "    rotated_image = cv2.warpAffine(image, rotation_matrix, (width, height))\n",
    "    #cv2.imshow('Original Image', image)\n",
    "    #cv2.imshow('Rotated Image', rotated_image)\n",
    "    #cv2.waitKey(0)\n",
    "    #cv2.destroyAllWindows()\n",
    "    return rotated_image"
   ]
  },
  {
   "cell_type": "code",
   "execution_count": 4,
   "id": "a6048f50-b576-4481-b0f2-1b08cec13a4b",
   "metadata": {
    "tags": []
   },
   "outputs": [],
   "source": [
    "def feature_extractor(path, Video, sign, FILENAME_F, FILENAME_HP):\n",
    "    file = path\n",
    "    # Split the path in \n",
    "    # head and tail pair\n",
    "    head_tail = os.path.split(file)\n",
    "    folder = head_tail[0]    \n",
    "\n",
    "    \n",
    "    csv_hands_out_path = os.path.join(folder, Video + FILENAME_HP)\n",
    "    csv_face_out_path = os.path.join(folder, Video + FILENAME_F)\n",
    "    csv_face_out_path_PCA = csv_face_out_path.replace(\"BASE\", \"PCA\")\n",
    "\n",
    "    #csv_pose_out_path = os.path.join(folder, Video + \"P.csv\")\n",
    "    pca = PCA(n_components=1)\n",
    "    if not os.path.exists(folder):\n",
    "        os.makedirs(folder)   \n",
    "\n",
    "    if (not os.path.exists(csv_hands_out_path) or (not os.path.exists(csv_face_out_path)) or (not os.path.exists(csv_face_out_path_PCA))):\n",
    "        holistic_model = mp.solutions.holistic.Holistic()\n",
    "        capture = cv2.VideoCapture(path)\n",
    "        frameNr = 1\n",
    "        hand_landmarks_left = np.zeros(shape=(21,2))\n",
    "        hand_landmarks_right = np.zeros(shape=(21,2))  \n",
    "        face_landmarks_list = np.zeros(shape=(68,2))\n",
    "        face_landmarks_list_pca = np.zeros(shape=(68))\n",
    "        pose_landmarks_list = np.zeros(shape=(25,2))\n",
    "        \n",
    "        csv_out_file_hands = open(csv_hands_out_path, 'w', newline='')\n",
    "        csv_out_writer_hands = csv.writer(csv_out_file_hands, delimiter=',', quoting=csv.QUOTE_NONE,escapechar=' ')\n",
    "        \n",
    "        csv_out_file_face = open(csv_face_out_path, 'w', newline='')\n",
    "        csv_out_writer_face = csv.writer(csv_out_file_face, delimiter=',', quoting=csv.QUOTE_NONE,escapechar=' ')\n",
    "        \n",
    "        csv_out_file_face_pca = open(csv_face_out_path_PCA, 'w', newline='')\n",
    "        csv_out_writer_face_pca = csv.writer(csv_out_file_face_pca, delimiter=',', quoting=csv.QUOTE_NONE,escapechar=' ')\n",
    "        \n",
    "        while (frameNr< (FRAMES+1)):\n",
    "            success, frame = capture.read()\n",
    "            if not success:\n",
    "                csv_out_writer_hands.writerow([sign] + [Video] + [Video + '_'+ str(frameNr)] + \n",
    "                hand_landmarks_left.flatten().astype(str).tolist() + \n",
    "                            hand_landmarks_right.flatten().astype(str).tolist() + \n",
    "                                          pose_landmarks_list.flatten().astype(str).tolist())                \n",
    "                csv_out_writer_face.writerow([sign] + [Video] + [Video + '_'+ str(frameNr)] + \n",
    "                            face_landmarks_list.flatten().astype(str).tolist())\n",
    "                \n",
    "                csv_out_writer_face_pca.writerow([sign] + [Video] + [Video + '_'+ str(frameNr)] + \n",
    "                            face_landmarks_list_pca.flatten().astype(str).tolist())\n",
    "                frameNr = frameNr+1        \n",
    "            elif success:\n",
    "                BGR_Image = cv2.cvtColor(frame, cv2.COLOR_BGR2RGB)\n",
    "                del frame\n",
    "                if FLIP:\n",
    "                    BGR_Image=cv2.flip(BGR_Image,1)\n",
    "                if ROTATE:\n",
    "                    BGR_Image = rotate_image(BGR_Image, ROT_ANG)\n",
    "                results = holistic_model.process(BGR_Image)\n",
    "                del BGR_Image\n",
    "                if results.left_hand_landmarks: \n",
    "                    hand_landmarks_left = np.array([[lmk.x, lmk.y] for lmk in results.left_hand_landmarks.landmark], dtype=np.float32)\n",
    "                else:\n",
    "                    hand_landmarks_left = np.zeros(shape=(21,2))\n",
    "                if results.right_hand_landmarks:\n",
    "                    hand_landmarks_right = np.array([[lmk.x, lmk.y] for lmk in results.right_hand_landmarks.landmark], dtype=np.float32)\n",
    "                else: \n",
    "                    hand_landmarks_right = np.zeros(shape=(21,2)) \n",
    "                    \n",
    "                if results.face_landmarks:\n",
    "                    landmarks = []\n",
    "                    landmarks_pca = []\n",
    "                    for index in LANDMARK_IDX:\n",
    "                        landmark = results.face_landmarks.landmark[index]    \n",
    "                        if(np.isnan(landmark.x)):\n",
    "                            print(path)\n",
    "                        landmarks.append(landmark.x)\n",
    "                        landmarks.append(landmark.y)  \n",
    "                        landmarks_pca.append([landmark.x, landmark.y]) \n",
    "                    csv_out_writer_face.writerow([sign] + [Video] + [Video + '_'+ str(frameNr)] + landmarks)                \n",
    "                    pca.fit(landmarks_pca)\n",
    "                    landmarks_pca = pca.transform(landmarks_pca)\n",
    "                    landmarks_pca = landmarks_pca.flatten()\n",
    "                    csv_out_writer_face_pca.writerow([sign] + [Video] + [Video + '_'+ str(frameNr)] + landmarks_pca.flatten().astype(str).tolist())\n",
    "                else:\n",
    "                    csv_out_writer_face.writerow([sign] + [Video] + [Video + '_'+ str(frameNr)] + face_landmarks_list.flatten().astype(str).tolist())\n",
    "                    csv_out_writer_face_pca.writerow([sign] + [Video] + [Video + '_'+ str(frameNr)] + face_landmarks_list_pca.flatten().astype(str).tolist())\n",
    "\n",
    "                if results.pose_landmarks:\n",
    "                    pose_landmarks_list = []\n",
    "                    pose_landmarks = results.pose_landmarks\n",
    "                    pose_landmarks_list = np.array([[lmk.x, lmk.y] for i, lmk in enumerate(results.pose_landmarks.landmark) if i < 25], dtype=np.float32)             \n",
    "                csv_out_writer_hands.writerow([sign] + [Video] + [Video + '_'+ str(frameNr)] +\n",
    "                                              hand_landmarks_left.flatten().astype(str).tolist() +\n",
    "                                                        hand_landmarks_right.flatten().astype(str).tolist() + \n",
    "                                                                pose_landmarks_list.flatten().astype(str).tolist())                       \n",
    "                frameNr = frameNr+1\n",
    "                hand_landmarks_right = np.zeros(shape=(21,2))\n",
    "                hand_landmarks_left = np.zeros(shape=(21,2))\n",
    "                face_landmarks_list = np.zeros(shape=(68,2)) \n",
    "                face_landmarks_list_pca = np.zeros(shape=(68)) \n",
    "                pose_landmarks_list = np.zeros(shape=(25,2))\n",
    "                \n",
    "        capture.release()        \n",
    "        del capture\n",
    "        holistic_model.close()\n",
    "        del holistic_model\n",
    "        csv_out_file_face.close()\n",
    "        del csv_out_file_face\n",
    "        csv_out_file_hands.close()\n",
    "        gc.collect()\n",
    "        "
   ]
  },
  {
   "cell_type": "code",
   "execution_count": 5,
   "id": "8db6241f-9ed9-4102-b1ab-2e39ffa5deaf",
   "metadata": {},
   "outputs": [
    {
     "name": "stdout",
     "output_type": "stream",
     "text": [
      "['Ahorro', 'Banco', 'Cajero Automatico', 'Cedula', 'Cuenta Bancaria', 'Cuotas', 'Deposito', 'Deuda', 'Fiador', 'Finanzas', 'Hipoteca', 'Impuesto', 'Intereses', 'Pagar', 'Persona Fisica', 'Persona Juridica', 'Prestamo', 'SINPE Movil', 'Tarjeta de Credito', 'Transferencia']\n"
     ]
    }
   ],
   "source": [
    "print(os.listdir(ROOT_PATH))"
   ]
  },
  {
   "cell_type": "code",
   "execution_count": 6,
   "id": "cf3457b1-613c-4972-9080-a879665e0067",
   "metadata": {},
   "outputs": [],
   "source": [
    "vid = {os.path.splitext(os.path.basename(x))[0]: x for x in glob(os.path.join(ROOT_PATH, '*','*.mp4'))}"
   ]
  },
  {
   "cell_type": "code",
   "execution_count": 7,
   "id": "98fb74f4-d158-4628-9acd-949cf4ec646a",
   "metadata": {},
   "outputs": [],
   "source": [
    "LESCO_DATA = pd.DataFrame.from_dict(vid, orient = 'index').reset_index()"
   ]
  },
  {
   "cell_type": "code",
   "execution_count": 8,
   "id": "364b127a-8b36-4d92-8478-997948ec789f",
   "metadata": {},
   "outputs": [],
   "source": [
    "LESCO_DATA.columns = ['Video','path']\n",
    "classes = LESCO_DATA.Video.str.split('_').str[1]\n",
    "LESCO_DATA['sign'] = classes"
   ]
  },
  {
   "cell_type": "code",
   "execution_count": 9,
   "id": "974d5ac1-7204-42e6-9b03-1efaea4df522",
   "metadata": {},
   "outputs": [
    {
     "data": {
      "text/html": [
       "<div>\n",
       "<style scoped>\n",
       "    .dataframe tbody tr th:only-of-type {\n",
       "        vertical-align: middle;\n",
       "    }\n",
       "\n",
       "    .dataframe tbody tr th {\n",
       "        vertical-align: top;\n",
       "    }\n",
       "\n",
       "    .dataframe thead th {\n",
       "        text-align: right;\n",
       "    }\n",
       "</style>\n",
       "<table border=\"1\" class=\"dataframe\">\n",
       "  <thead>\n",
       "    <tr style=\"text-align: right;\">\n",
       "      <th></th>\n",
       "      <th>Video</th>\n",
       "      <th>path</th>\n",
       "      <th>sign</th>\n",
       "    </tr>\n",
       "  </thead>\n",
       "  <tbody>\n",
       "    <tr>\n",
       "      <th>0</th>\n",
       "      <td>Signer10_Ahorro_1</td>\n",
       "      <td>C:/Users/jimmy/Documents/ORIGINALES_RAW_90\\Aho...</td>\n",
       "      <td>Ahorro</td>\n",
       "    </tr>\n",
       "    <tr>\n",
       "      <th>1</th>\n",
       "      <td>Signer10_Ahorro_10</td>\n",
       "      <td>C:/Users/jimmy/Documents/ORIGINALES_RAW_90\\Aho...</td>\n",
       "      <td>Ahorro</td>\n",
       "    </tr>\n",
       "    <tr>\n",
       "      <th>2</th>\n",
       "      <td>Signer10_Ahorro_2</td>\n",
       "      <td>C:/Users/jimmy/Documents/ORIGINALES_RAW_90\\Aho...</td>\n",
       "      <td>Ahorro</td>\n",
       "    </tr>\n",
       "    <tr>\n",
       "      <th>3</th>\n",
       "      <td>Signer10_Ahorro_3</td>\n",
       "      <td>C:/Users/jimmy/Documents/ORIGINALES_RAW_90\\Aho...</td>\n",
       "      <td>Ahorro</td>\n",
       "    </tr>\n",
       "    <tr>\n",
       "      <th>4</th>\n",
       "      <td>Signer10_Ahorro_4</td>\n",
       "      <td>C:/Users/jimmy/Documents/ORIGINALES_RAW_90\\Aho...</td>\n",
       "      <td>Ahorro</td>\n",
       "    </tr>\n",
       "  </tbody>\n",
       "</table>\n",
       "</div>"
      ],
      "text/plain": [
       "                Video                                               path  \\\n",
       "0   Signer10_Ahorro_1  C:/Users/jimmy/Documents/ORIGINALES_RAW_90\\Aho...   \n",
       "1  Signer10_Ahorro_10  C:/Users/jimmy/Documents/ORIGINALES_RAW_90\\Aho...   \n",
       "2   Signer10_Ahorro_2  C:/Users/jimmy/Documents/ORIGINALES_RAW_90\\Aho...   \n",
       "3   Signer10_Ahorro_3  C:/Users/jimmy/Documents/ORIGINALES_RAW_90\\Aho...   \n",
       "4   Signer10_Ahorro_4  C:/Users/jimmy/Documents/ORIGINALES_RAW_90\\Aho...   \n",
       "\n",
       "     sign  \n",
       "0  Ahorro  \n",
       "1  Ahorro  \n",
       "2  Ahorro  \n",
       "3  Ahorro  \n",
       "4  Ahorro  "
      ]
     },
     "execution_count": 9,
     "metadata": {},
     "output_type": "execute_result"
    }
   ],
   "source": [
    "LESCO_DATA.head()"
   ]
  },
  {
   "cell_type": "code",
   "execution_count": 10,
   "id": "fcb63a87-6309-4bcd-8b5d-068f581088a8",
   "metadata": {},
   "outputs": [
    {
     "data": {
      "text/plain": [
       "1860"
      ]
     },
     "execution_count": 10,
     "metadata": {},
     "output_type": "execute_result"
    }
   ],
   "source": [
    "len(LESCO_DATA)"
   ]
  },
  {
   "cell_type": "code",
   "execution_count": 11,
   "id": "dc01f495-cf2b-456b-aed6-f5175ee79ec4",
   "metadata": {},
   "outputs": [
    {
     "name": "stdout",
     "output_type": "stream",
     "text": [
      "_BASE_ FLIP False ROT False ANG 0\n"
     ]
    },
    {
     "name": "stderr",
     "output_type": "stream",
     "text": [
      "100%|██████████| 1860/1860 [00:00<00:00, 3534.00it/s]\n"
     ]
    },
    {
     "name": "stdout",
     "output_type": "stream",
     "text": [
      "_BASE_5_ FLIP False ROT True ANG 5\n"
     ]
    },
    {
     "name": "stderr",
     "output_type": "stream",
     "text": [
      "100%|██████████| 1860/1860 [00:00<00:00, 3306.81it/s]\n"
     ]
    },
    {
     "name": "stdout",
     "output_type": "stream",
     "text": [
      "_BASE_5N_ FLIP False ROT True ANG -5\n"
     ]
    },
    {
     "name": "stderr",
     "output_type": "stream",
     "text": [
      "100%|██████████| 1860/1860 [00:00<00:00, 3163.50it/s]\n"
     ]
    },
    {
     "name": "stdout",
     "output_type": "stream",
     "text": [
      "_BASE_FLIP_ FLIP True ROT False ANG 0\n"
     ]
    },
    {
     "name": "stderr",
     "output_type": "stream",
     "text": [
      "100%|██████████| 1860/1860 [00:00<00:00, 3442.88it/s]\n"
     ]
    },
    {
     "name": "stdout",
     "output_type": "stream",
     "text": [
      "_BASE_FLIP_5_ FLIP True ROT True ANG 5\n"
     ]
    },
    {
     "name": "stderr",
     "output_type": "stream",
     "text": [
      "100%|██████████| 1860/1860 [00:00<00:00, 3617.16it/s]\n"
     ]
    },
    {
     "name": "stdout",
     "output_type": "stream",
     "text": [
      "_BASE_FLIP_5N_ FLIP True ROT True ANG -5\n"
     ]
    },
    {
     "name": "stderr",
     "output_type": "stream",
     "text": [
      "100%|██████████| 1860/1860 [00:00<00:00, 3074.52it/s]\n"
     ]
    }
   ],
   "source": [
    "LIST = [\"_BASE_\",\"_BASE_5_\", \"_BASE_5N_\", \"_BASE_FLIP_\", \"_BASE_FLIP_5_\", \"_BASE_FLIP_5N_\"]\n",
    "for filename in LIST:\n",
    "    if '_FLIP_' in filename:\n",
    "        FLIP = True\n",
    "    else:\n",
    "        FLIP = False\n",
    "    if '_5_' in filename:\n",
    "        ROTATE = True\n",
    "        ROT_ANG = 5\n",
    "    elif '_5N_' in filename:\n",
    "        ROTATE = True\n",
    "        ROT_ANG = -5\n",
    "    else:\n",
    "        ROTATE = False\n",
    "        ROT_ANG = 0 \n",
    "    print(filename + \" FLIP \" + str(FLIP) + \" ROT \" + str(ROTATE) + \" ANG \" + str(ROT_ANG))\n",
    "    for ID, row in tqdm(LESCO_DATA.iterrows(), total=len(LESCO_DATA)):\n",
    "        FILENAME_F = filename + \"F.csv\"\n",
    "        FILENAME_HP = filename + \"HP.csv\"\n",
    "        feature_extractor(row['path'], row['Video'],  row['sign'], FILENAME_F, FILENAME_HP)\n",
    "        del row"
   ]
  },
  {
   "cell_type": "code",
   "execution_count": 12,
   "id": "04e89152-1fa0-4c7a-8ff0-dbf4a95c10af",
   "metadata": {},
   "outputs": [
    {
     "ename": "NameError",
     "evalue": "name 'Signer10_Ahorro_1_PCA_5N_F' is not defined",
     "output_type": "error",
     "traceback": [
      "\u001b[1;31m---------------------------------------------------------------------------\u001b[0m",
      "\u001b[1;31mNameError\u001b[0m                                 Traceback (most recent call last)",
      "Cell \u001b[1;32mIn[12], line 1\u001b[0m\n\u001b[1;32m----> 1\u001b[0m \u001b[43mSigner10_Ahorro_1_PCA_5N_F\u001b[49m\n",
      "\u001b[1;31mNameError\u001b[0m: name 'Signer10_Ahorro_1_PCA_5N_F' is not defined"
     ]
    }
   ],
   "source": []
  }
 ],
 "metadata": {
  "kernelspec": {
   "display_name": "Python 3 (ipykernel)",
   "language": "python",
   "name": "python3"
  },
  "language_info": {
   "codemirror_mode": {
    "name": "ipython",
    "version": 3
   },
   "file_extension": ".py",
   "mimetype": "text/x-python",
   "name": "python",
   "nbconvert_exporter": "python",
   "pygments_lexer": "ipython3",
   "version": "3.9.15"
  }
 },
 "nbformat": 4,
 "nbformat_minor": 5
}
