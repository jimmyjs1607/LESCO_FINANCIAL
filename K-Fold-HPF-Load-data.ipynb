{
 "cells": [
  {
   "cell_type": "code",
   "execution_count": 1,
   "id": "4ea0ca58-a02a-405c-a682-e9c9388109d7",
   "metadata": {},
   "outputs": [],
   "source": [
    "import tensorflow as tf\n",
    "from tensorflow import keras\n",
    "\n",
    "import tensorflow as tf\n",
    "import numpy as np\n",
    "import pandas as pd\n",
    "import matplotlib.pyplot as plt\n",
    "import imageio\n",
    "import cv2\n",
    "from imutils import paths\n",
    "import shutil\n",
    "import os\n",
    "import csv\n",
    "import glob\n",
    "import gc\n",
    "from tqdm import tqdm\n",
    "from sklearn.preprocessing import OneHotEncoder, LabelEncoder"
   ]
  },
  {
   "cell_type": "code",
   "execution_count": 2,
   "id": "352f472c-6567-4d7f-9c1b-34c9c643ae33",
   "metadata": {},
   "outputs": [],
   "source": [
    "def labels2cat(label_encoder, list):\n",
    "    return label_encoder.transform(list)\n",
    "\n",
    "def load_csv_file():\n",
    "    data = []\n",
    "    for csv_file in tqdm(LESCO_DATA.path.values, total=len(LESCO_DATA.path.values)):\n",
    "        with open(csv_file,'r') as f:\n",
    "            lines = f.readlines()\n",
    "            data.append(np.array([line.strip().split(',') for line in lines]))\n",
    "    return np.vstack(data)\n",
    "\n",
    "def load_csv_file_face():\n",
    "    data = []\n",
    "    for csv_file in tqdm(LESCO_DATA_FACE.path.values, total=len(LESCO_DATA_FACE.path.values)):\n",
    "        with open(csv_file,'r') as f:\n",
    "            lines = f.readlines()\n",
    "            processed_lines = []\n",
    "            for line in lines:\n",
    "                columns = line.strip().split(',')\n",
    "                processed_line = columns[:MAX_KEYPOINTS_FACE+3]  # Keep only the first MAX_KEYPOINTS_FACE+3 columns\n",
    "                processed_lines.append(processed_line)\n",
    "            data.append(np.array(processed_lines))\n",
    "            if(len(lines)<MAX_FRAMES):\n",
    "                print(csv_file)\n",
    "            #if(len(np.array([line.strip().split(',') for line in lines])[1])<139):\n",
    "                #print(csv_file)\n",
    "    return np.vstack(data)"
   ]
  },
  {
   "cell_type": "code",
   "execution_count": 3,
   "id": "269a3754-b6ff-4178-90db-0b3621c74f0a",
   "metadata": {},
   "outputs": [],
   "source": [
    "MAX_FRAMES = 30\n",
    "MAX_KEYPOINTS = 134\n",
    "MAX_KEYPOINTS_FACE=136 \n",
    "\n",
    "ROOT_PATH=f\"C:/Users/jimmy/Documents/ORIGINALES_RAW_{MAX_FRAMES}/\""
   ]
  },
  {
   "cell_type": "code",
   "execution_count": 4,
   "id": "511a30f1-8789-44a1-9790-d45beeadf68b",
   "metadata": {},
   "outputs": [],
   "source": [
    "## Get  "
   ]
  },
  {
   "cell_type": "code",
   "execution_count": 5,
   "id": "963d7c0f-fd6e-4afd-809a-f6ee36b96126",
   "metadata": {},
   "outputs": [],
   "source": [
    "vid = {os.path.splitext(os.path.basename(x))[0]: x for x in glob.glob(ROOT_PATH + '*/*HP*.csv')}\n",
    "LESCO_DATA = pd.DataFrame.from_dict(vid, orient = 'index').reset_index()\n",
    "LESCO_DATA.columns = ['Class','path']\n",
    "signers = LESCO_DATA.Class.str.split('_').str[0]\n",
    "classes = LESCO_DATA.Class.str.split('_').str[1]\n",
    "LESCO_DATA['Signer'] = signers\n",
    "LESCO_DATA['Class'] = classes\n",
    "vid_face = {os.path.splitext(os.path.basename(x))[0]: x for x in glob.glob(ROOT_PATH + '*/*BASE*_F_*.csv')}\n",
    "LESCO_DATA_FACE = pd.DataFrame.from_dict(vid_face, orient = 'index').reset_index()\n",
    "LESCO_DATA_FACE.columns = ['Class','path']\n"
   ]
  },
  {
   "cell_type": "code",
   "execution_count": 6,
   "id": "9b69b3f6-0ef8-45ef-a84e-f99a98c484ae",
   "metadata": {},
   "outputs": [
    {
     "data": {
      "text/html": [
       "<div>\n",
       "<style scoped>\n",
       "    .dataframe tbody tr th:only-of-type {\n",
       "        vertical-align: middle;\n",
       "    }\n",
       "\n",
       "    .dataframe tbody tr th {\n",
       "        vertical-align: top;\n",
       "    }\n",
       "\n",
       "    .dataframe thead th {\n",
       "        text-align: right;\n",
       "    }\n",
       "</style>\n",
       "<table border=\"1\" class=\"dataframe\">\n",
       "  <thead>\n",
       "    <tr style=\"text-align: right;\">\n",
       "      <th></th>\n",
       "      <th>Class</th>\n",
       "      <th>path</th>\n",
       "    </tr>\n",
       "  </thead>\n",
       "  <tbody>\n",
       "    <tr>\n",
       "      <th>0</th>\n",
       "      <td>Signer10_Ahorro_10_BASE_5N_F_0</td>\n",
       "      <td>C:/Users/jimmy/Documents/ORIGINALES_RAW_30\\Aho...</td>\n",
       "    </tr>\n",
       "    <tr>\n",
       "      <th>1</th>\n",
       "      <td>Signer10_Ahorro_10_BASE_5N_F_1</td>\n",
       "      <td>C:/Users/jimmy/Documents/ORIGINALES_RAW_30\\Aho...</td>\n",
       "    </tr>\n",
       "    <tr>\n",
       "      <th>2</th>\n",
       "      <td>Signer10_Ahorro_10_BASE_5N_F_2</td>\n",
       "      <td>C:/Users/jimmy/Documents/ORIGINALES_RAW_30\\Aho...</td>\n",
       "    </tr>\n",
       "    <tr>\n",
       "      <th>3</th>\n",
       "      <td>Signer10_Ahorro_10_BASE_5_F_0</td>\n",
       "      <td>C:/Users/jimmy/Documents/ORIGINALES_RAW_30\\Aho...</td>\n",
       "    </tr>\n",
       "    <tr>\n",
       "      <th>4</th>\n",
       "      <td>Signer10_Ahorro_10_BASE_5_F_1</td>\n",
       "      <td>C:/Users/jimmy/Documents/ORIGINALES_RAW_30\\Aho...</td>\n",
       "    </tr>\n",
       "    <tr>\n",
       "      <th>...</th>\n",
       "      <td>...</td>\n",
       "      <td>...</td>\n",
       "    </tr>\n",
       "    <tr>\n",
       "      <th>33475</th>\n",
       "      <td>Signer9_Transferencia_9_BASE_FLIP_F_1</td>\n",
       "      <td>C:/Users/jimmy/Documents/ORIGINALES_RAW_30\\Tra...</td>\n",
       "    </tr>\n",
       "    <tr>\n",
       "      <th>33476</th>\n",
       "      <td>Signer9_Transferencia_9_BASE_FLIP_F_2</td>\n",
       "      <td>C:/Users/jimmy/Documents/ORIGINALES_RAW_30\\Tra...</td>\n",
       "    </tr>\n",
       "    <tr>\n",
       "      <th>33477</th>\n",
       "      <td>Signer9_Transferencia_9_BASE_F_0</td>\n",
       "      <td>C:/Users/jimmy/Documents/ORIGINALES_RAW_30\\Tra...</td>\n",
       "    </tr>\n",
       "    <tr>\n",
       "      <th>33478</th>\n",
       "      <td>Signer9_Transferencia_9_BASE_F_1</td>\n",
       "      <td>C:/Users/jimmy/Documents/ORIGINALES_RAW_30\\Tra...</td>\n",
       "    </tr>\n",
       "    <tr>\n",
       "      <th>33479</th>\n",
       "      <td>Signer9_Transferencia_9_BASE_F_2</td>\n",
       "      <td>C:/Users/jimmy/Documents/ORIGINALES_RAW_30\\Tra...</td>\n",
       "    </tr>\n",
       "  </tbody>\n",
       "</table>\n",
       "<p>33480 rows × 2 columns</p>\n",
       "</div>"
      ],
      "text/plain": [
       "                                       Class  \\\n",
       "0             Signer10_Ahorro_10_BASE_5N_F_0   \n",
       "1             Signer10_Ahorro_10_BASE_5N_F_1   \n",
       "2             Signer10_Ahorro_10_BASE_5N_F_2   \n",
       "3              Signer10_Ahorro_10_BASE_5_F_0   \n",
       "4              Signer10_Ahorro_10_BASE_5_F_1   \n",
       "...                                      ...   \n",
       "33475  Signer9_Transferencia_9_BASE_FLIP_F_1   \n",
       "33476  Signer9_Transferencia_9_BASE_FLIP_F_2   \n",
       "33477       Signer9_Transferencia_9_BASE_F_0   \n",
       "33478       Signer9_Transferencia_9_BASE_F_1   \n",
       "33479       Signer9_Transferencia_9_BASE_F_2   \n",
       "\n",
       "                                                    path  \n",
       "0      C:/Users/jimmy/Documents/ORIGINALES_RAW_30\\Aho...  \n",
       "1      C:/Users/jimmy/Documents/ORIGINALES_RAW_30\\Aho...  \n",
       "2      C:/Users/jimmy/Documents/ORIGINALES_RAW_30\\Aho...  \n",
       "3      C:/Users/jimmy/Documents/ORIGINALES_RAW_30\\Aho...  \n",
       "4      C:/Users/jimmy/Documents/ORIGINALES_RAW_30\\Aho...  \n",
       "...                                                  ...  \n",
       "33475  C:/Users/jimmy/Documents/ORIGINALES_RAW_30\\Tra...  \n",
       "33476  C:/Users/jimmy/Documents/ORIGINALES_RAW_30\\Tra...  \n",
       "33477  C:/Users/jimmy/Documents/ORIGINALES_RAW_30\\Tra...  \n",
       "33478  C:/Users/jimmy/Documents/ORIGINALES_RAW_30\\Tra...  \n",
       "33479  C:/Users/jimmy/Documents/ORIGINALES_RAW_30\\Tra...  \n",
       "\n",
       "[33480 rows x 2 columns]"
      ]
     },
     "execution_count": 6,
     "metadata": {},
     "output_type": "execute_result"
    }
   ],
   "source": [
    "LESCO_DATA_FACE"
   ]
  },
  {
   "cell_type": "code",
   "execution_count": 7,
   "id": "fcad2934-4e5d-423b-93a1-e9615851c4de",
   "metadata": {},
   "outputs": [
    {
     "name": "stderr",
     "output_type": "stream",
     "text": [
      "100%|██████████| 33480/33480 [01:02<00:00, 533.81it/s]\n"
     ]
    }
   ],
   "source": [
    "all_classes = os.listdir(ROOT_PATH)\n",
    "np.save(\"NPY_SPLITS/ALL_CLASSES.npy\", all_classes)\n",
    "le = LabelEncoder()\n",
    "le.fit(all_classes)\n",
    "list(le.classes_)\n",
    "y_list = labels2cat(le, classes)\n",
    "all_kps = load_csv_file()\n",
    "all_kps = all_kps.reshape(-1, MAX_FRAMES, MAX_KEYPOINTS+3)\n",
    "all_kps = all_kps[..., -MAX_KEYPOINTS:]\n",
    "all_kps = all_kps.astype(np.float64)"
   ]
  },
  {
   "cell_type": "code",
   "execution_count": 8,
   "id": "44425dc2-7f66-418a-b621-c2c32ca57bf3",
   "metadata": {},
   "outputs": [
    {
     "data": {
      "text/plain": [
       "(33480, 30, 134)"
      ]
     },
     "execution_count": 8,
     "metadata": {},
     "output_type": "execute_result"
    }
   ],
   "source": [
    "all_kps.shape"
   ]
  },
  {
   "cell_type": "code",
   "execution_count": 9,
   "id": "5891a374-23ea-44ab-9e7e-7cb01398abf1",
   "metadata": {
    "scrolled": true,
    "tags": []
   },
   "outputs": [
    {
     "name": "stderr",
     "output_type": "stream",
     "text": [
      "100%|██████████| 33480/33480 [01:14<00:00, 448.30it/s]\n"
     ]
    }
   ],
   "source": [
    "all_kps_face = load_csv_file_face()\n",
    "all_kps_face = all_kps_face.reshape(-1, MAX_FRAMES, MAX_KEYPOINTS_FACE+3)\n",
    "all_kps_face = all_kps_face[..., -MAX_KEYPOINTS_FACE:]\n",
    "all_kps_face = all_kps_face.astype(np.float64)"
   ]
  },
  {
   "cell_type": "code",
   "execution_count": 10,
   "id": "5d09b72b-7e0a-4512-bac5-eb00f56cda3f",
   "metadata": {},
   "outputs": [
    {
     "data": {
      "text/plain": [
       "(33480, 30, 136)"
      ]
     },
     "execution_count": 10,
     "metadata": {},
     "output_type": "execute_result"
    }
   ],
   "source": [
    "all_kps_face.shape"
   ]
  },
  {
   "cell_type": "code",
   "execution_count": 11,
   "id": "ab274815-e852-4232-a2b1-d40ff7bf3283",
   "metadata": {},
   "outputs": [
    {
     "data": {
      "text/plain": [
       "(33480, 30, 270)"
      ]
     },
     "execution_count": 11,
     "metadata": {},
     "output_type": "execute_result"
    }
   ],
   "source": [
    "all_kps_final = np.concatenate((all_kps, all_kps_face), axis=2)\n",
    "#all_kps_final = all_kps\n",
    "all_kps_final.shape"
   ]
  },
  {
   "cell_type": "code",
   "execution_count": 13,
   "id": "f5400495-b169-4df4-b23e-567d35dbd519",
   "metadata": {},
   "outputs": [],
   "source": [
    "##Signer6 should not be used for validation - too little videos and some missing classes\n",
    "for i in range(0, 5):\n",
    "    if(i==0):\n",
    "        match_strings = ['Signer1', 'Signer10']\n",
    "    elif(i==1):\n",
    "        match_strings = ['Signer2', 'Signer9']\n",
    "    elif(i==2):\n",
    "        match_strings = ['Signer3', 'Signer8']\n",
    "    elif(i==3):\n",
    "        match_strings = ['Signer4', 'Signer7']\n",
    "    elif(i==4):\n",
    "        match_strings = ['Signer5', 'Signer1']\n",
    "    index = np.isin(signers.values, match_strings)\n",
    "    train_list_HPF = all_kps_final[~index]\n",
    "    train_label_HPF = y_list[~index]\n",
    "    test_list_HPF = all_kps_final[index]\n",
    "    test_label_HPF = y_list[index]\n",
    "    train_filename = f\"NPY_SPLITS/train_list_HPF_HOL_{MAX_FRAMES}_{i}.npy\"\n",
    "    np.save(train_filename, train_list_HPF)\n",
    "    train_label_filename = f\"NPY_SPLITS/train_label_HPF_HOL_{MAX_FRAMES}_{i}.npy\"\n",
    "    np.save(train_label_filename, train_label_HPF)\n",
    "    test_filename = f\"NPY_SPLITS/test_list_HPF_HOL_{MAX_FRAMES}_{i}.npy\"\n",
    "    np.save(test_filename, test_list_HPF)\n",
    "    test_label_filename = f\"NPY_SPLITS/test_label_HPF_HOL_{MAX_FRAMES}_{i}.npy\"\n",
    "    np.save(test_label_filename, test_label_HPF)\n",
    "    \n"
   ]
  },
  {
   "cell_type": "code",
   "execution_count": null,
   "id": "b2690667-45dc-4e5e-a0f7-c7a11bbe4da8",
   "metadata": {},
   "outputs": [],
   "source": []
  }
 ],
 "metadata": {
  "kernelspec": {
   "display_name": "Python 3 (ipykernel)",
   "language": "python",
   "name": "python3"
  },
  "language_info": {
   "codemirror_mode": {
    "name": "ipython",
    "version": 3
   },
   "file_extension": ".py",
   "mimetype": "text/x-python",
   "name": "python",
   "nbconvert_exporter": "python",
   "pygments_lexer": "ipython3",
   "version": "3.9.15"
  }
 },
 "nbformat": 4,
 "nbformat_minor": 5
}
